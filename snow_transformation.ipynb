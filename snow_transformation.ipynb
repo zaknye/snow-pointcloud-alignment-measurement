{
 "cells": [
  {
   "cell_type": "code",
   "execution_count": 61,
   "metadata": {},
   "outputs": [],
   "source": [
    "import open3d as o3d\n",
    "import numpy as np\n",
    "from open3d import JVisualizer\n",
    "import matplotlib.pyplot as plt\n",
    "from mpl_toolkits import mplot3d\n",
    "import copy \n",
    "import os"
   ]
  },
  {
   "cell_type": "code",
   "execution_count": 32,
   "metadata": {},
   "outputs": [],
   "source": [
    "def preprocess_point_cloud(pcd, voxel_size):\n",
    "    print(\":: Downsample with a voxel size %.3f.\" % voxel_size)\n",
    "    pcd_down = pcd.voxel_down_sample(voxel_size)\n",
    "\n",
    "    radius_normal = voxel_size * 2\n",
    "    print(\":: Estimate normal with search radius %.3f.\" % radius_normal)\n",
    "    pcd_down.estimate_normals(\n",
    "        o3d.geometry.KDTreeSearchParamHybrid(radius=radius_normal, max_nn=30))\n",
    "    # orient normals so the ground is facing the same way\n",
    "    pcd_down.orient_normals_to_align_with_direction()\n",
    "    pcd_down = remove_ground_points(pcd_down, 0.4)\n",
    "\n",
    "    radius_feature = voxel_size * 5\n",
    "    print(\":: Compute FPFH feature with search radius %.3f.\" % radius_feature)\n",
    "    pcd_fpfh = o3d.pipelines.registration.compute_fpfh_feature(\n",
    "        pcd_down,\n",
    "        o3d.geometry.KDTreeSearchParamHybrid(radius=radius_feature, max_nn=100))\n",
    "    return pcd_down, pcd_fpfh"
   ]
  },
  {
   "cell_type": "code",
   "execution_count": 33,
   "metadata": {},
   "outputs": [],
   "source": [
    "def prepare_dataset(voxel_size):\n",
    "    print(\":: Load two point clouds\")\n",
    "    source = o3d.io.read_point_cloud(\"/home/zak/senior_design/ros_livox/maps/fri_mar_12/corner.pcd\")\n",
    "    target = o3d.io.read_point_cloud(\"/home/zak/senior_design/ros_livox/maps/mon_mar_15_after_snow_2/corner.pcd\")\n",
    "    trans_init = np.asarray([[0.0, 0.0, 1.0, 0.0], [1.0, 0.0, 0.0, 0.0],\n",
    "                             [0.0, 1.0, 0.0, 0.0], [0.0, 0.0, 0.0, 1.0]])\n",
    "    draw_registration_result(source, target, np.identity(4))\n",
    "\n",
    "    source_down, source_fpfh = preprocess_point_cloud(source, voxel_size)\n",
    "    target_down, target_fpfh = preprocess_point_cloud(target, voxel_size)\n",
    "    return source, target, source_down, target_down, source_fpfh, target_fpfh"
   ]
  },
  {
   "cell_type": "code",
   "execution_count": 34,
   "metadata": {},
   "outputs": [],
   "source": [
    "def remove_ground_points(pcd, z_threshold):\n",
    "    \n",
    "    pop_list = []\n",
    "    for i, normal in enumerate(pcd.normals):\n",
    "        if normal[2] > z_threshold:\n",
    "            pop_list.append(i)\n",
    "    \n",
    "    print(\"Number of points to be removed: \", len(pop_list))\n",
    "    pop_list.sort(reverse=True)\n",
    "    for item in pop_list:\n",
    "        pcd.normals.pop(item)\n",
    "        pcd.points.pop(item)\n",
    "    \n",
    "    return pcd"
   ]
  },
  {
   "cell_type": "code",
   "execution_count": 35,
   "metadata": {},
   "outputs": [],
   "source": [
    "def draw_registration_result(source, target, transformation):\n",
    "    source_temp = copy.deepcopy(source)\n",
    "    target_temp = copy.deepcopy(target)\n",
    "    source_temp.paint_uniform_color([1, 0.706, 0])\n",
    "    target_temp.paint_uniform_color([0, 0.651, 0.929])\n",
    "    source_temp.transform(transformation)\n",
    "    o3d.visualization.draw_geometries([source_temp, target_temp],\n",
    "                                      zoom=0.4559,\n",
    "                                      front=[0.6452, -0.3036, -0.7011],\n",
    "                                      lookat=[1.9892, 2.0208, 1.8945],\n",
    "                                      up=[-0.2779, -0.9482, 0.1556])"
   ]
  },
  {
   "cell_type": "code",
   "execution_count": 36,
   "metadata": {},
   "outputs": [
    {
     "name": "stdout",
     "output_type": "stream",
     "text": [
      ":: Load two point clouds and disturb initial pose.\n",
      ":: Downsample with a voxel size 0.400.\n",
      ":: Estimate normal with search radius 0.800.\n",
      "Number of points to be removed:  14595\n",
      ":: Compute FPFH feature with search radius 2.000.\n",
      ":: Downsample with a voxel size 0.400.\n",
      ":: Estimate normal with search radius 0.800.\n",
      "Number of points to be removed:  19636\n",
      ":: Compute FPFH feature with search radius 2.000.\n"
     ]
    }
   ],
   "source": [
    "voxel_size = 0.4\n",
    "source, target, source_down, target_down, source_fpfh, target_fpfh = prepare_dataset(\n",
    "    voxel_size)"
   ]
  },
  {
   "cell_type": "code",
   "execution_count": 37,
   "metadata": {},
   "outputs": [],
   "source": [
    "def execute_global_registration(source_down, target_down, source_fpfh,\n",
    "                                target_fpfh, voxel_size):\n",
    "    distance_threshold = voxel_size * 1.5\n",
    "    print(\":: RANSAC registration on downsampled point clouds.\")\n",
    "    print(\"   Since the downsampling voxel size is %.3f,\" % voxel_size)\n",
    "    print(\"   we use a liberal distance threshold %.3f.\" % distance_threshold)\n",
    "    result = o3d.pipelines.registration.registration_ransac_based_on_feature_matching(\n",
    "        source_down, target_down, source_fpfh, target_fpfh, True,\n",
    "        distance_threshold,\n",
    "        o3d.pipelines.registration.TransformationEstimationPointToPoint(False),\n",
    "         3, [\n",
    "            o3d.pipelines.registration.CorrespondenceCheckerBasedOnEdgeLength(\n",
    "                0.9),\n",
    "            o3d.pipelines.registration.CorrespondenceCheckerBasedOnDistance(\n",
    "                distance_threshold)\n",
    "        ], o3d.pipelines.registration.RANSACConvergenceCriteria(10000000, 0.999))\n",
    "    return result"
   ]
  },
  {
   "cell_type": "code",
   "execution_count": 38,
   "metadata": {},
   "outputs": [
    {
     "name": "stdout",
     "output_type": "stream",
     "text": [
      ":: RANSAC registration on downsampled point clouds.\n",
      "   Since the downsampling voxel size is 0.400,\n",
      "   we use a liberal distance threshold 0.600.\n",
      "RegistrationResult with fitness=1.322645e-02, inlier_rmse=3.761809e-01, and correspondence_set size of 33\n",
      "Access transformation to get result.\n"
     ]
    }
   ],
   "source": [
    "result_ransac = execute_global_registration(source_down, target_down,\n",
    "                                            source_fpfh, target_fpfh,\n",
    "                                            voxel_size)\n",
    "print(result_ransac)\n"
   ]
  },
  {
   "cell_type": "code",
   "execution_count": 39,
   "metadata": {},
   "outputs": [],
   "source": [
    "draw_registration_result(source, target, result_ransac.transformation)"
   ]
  },
  {
   "cell_type": "code",
   "execution_count": 40,
   "metadata": {},
   "outputs": [
    {
     "name": "stdout",
     "output_type": "stream",
     "text": [
      "[[ 0.85081168 -0.49510347  0.17604555  0.05610032]\n",
      " [ 0.49052328  0.86846623  0.0717866  -0.81825822]\n",
      " [-0.18843141  0.02527756  0.98176099  0.31087464]\n",
      " [ 0.          0.          0.          1.        ]]\n"
     ]
    }
   ],
   "source": [
    "print(result_ransac.transformation)"
   ]
  },
  {
   "cell_type": "code",
   "execution_count": 41,
   "metadata": {},
   "outputs": [],
   "source": [
    "def refine_registration(source, target, source_fpfh, target_fpfh, voxel_size):\n",
    "    radius_normal = voxel_size * 2\n",
    "    distance_threshold = voxel_size * 0.4\n",
    "    print(\":: Point-to-plane ICP registration is applied on original point\")\n",
    "    print(\"   clouds to refine the alignment. This time we use a strict\")\n",
    "    print(\"   distance threshold %.3f.\" % distance_threshold)\n",
    "    target.estimate_normals(\n",
    "        o3d.geometry.KDTreeSearchParamHybrid(radius=radius_normal, max_nn=30))\n",
    "    source.estimate_normals(\n",
    "        o3d.geometry.KDTreeSearchParamHybrid(radius=radius_normal, max_nn=30))\n",
    "    # orient normals so the ground is facing the same way\n",
    "    target.orient_normals_to_align_with_direction()\n",
    "    source.orient_normals_to_align_with_direction()\n",
    "    # remove all points with a z normal component greater than the threshold\n",
    "    target = remove_ground_points(target, 0.3)\n",
    "    source = remove_ground_points(source, 0.3)\n",
    "    result = o3d.pipelines.registration.registration_icp(\n",
    "        source_down, target_down, distance_threshold, result_ransac.transformation,\n",
    "        o3d.pipelines.registration.TransformationEstimationPointToPlane())\n",
    "    return result"
   ]
  },
  {
   "cell_type": "code",
   "execution_count": 42,
   "metadata": {},
   "outputs": [
    {
     "name": "stdout",
     "output_type": "stream",
     "text": [
      ":: Point-to-plane ICP registration is applied on original point\n",
      "   clouds to refine the alignment. This time we use a strict\n",
      "   distance threshold 0.160.\n",
      "Number of points to be removed:  27483\n",
      "Number of points to be removed:  22978\n",
      "RegistrationResult with fitness=1.439100e-01, inlier_rmse=1.185740e-01, and correspondence_set size of 2519\n",
      "Access transformation to get result.\n"
     ]
    }
   ],
   "source": [
    "result_icp = refine_registration(source, target, source_fpfh, target_fpfh,\n",
    "                                 voxel_size)\n",
    "print(result_icp)"
   ]
  },
  {
   "cell_type": "code",
   "execution_count": 43,
   "metadata": {},
   "outputs": [
    {
     "name": "stdout",
     "output_type": "stream",
     "text": [
      "[[ 0.85167683 -0.49231304  0.17965092 -0.04157744]\n",
      " [ 0.48732402  0.87007429  0.07406775 -0.70046279]\n",
      " [-0.19277417  0.02446642  0.98093808  0.62305917]\n",
      " [ 0.          0.          0.          1.        ]]\n"
     ]
    }
   ],
   "source": [
    "np.set_printoptions(suppress=True)\n",
    "print(result_icp.transformation)"
   ]
  },
  {
   "cell_type": "code",
   "execution_count": 44,
   "metadata": {},
   "outputs": [],
   "source": [
    "draw_registration_result(source, target, result_icp.transformation)"
   ]
  },
  {
   "cell_type": "code",
   "execution_count": 56,
   "metadata": {},
   "outputs": [],
   "source": [
    "before_snow = o3d.io.read_point_cloud(\"/home/zak/senior_design/ros_livox/maps/fri_mar_12/all_points.pcd\")\n",
    "after_snow = o3d.io.read_point_cloud(\"/home/zak/senior_design/ros_livox/maps/mon_mar_15_after_snow_2/all_points.pcd\")\n",
    "\n",
    "draw_registration_result(before_snow, after_snow, result_icp.transformation)"
   ]
  },
  {
   "cell_type": "code",
   "execution_count": 58,
   "metadata": {},
   "outputs": [
    {
     "data": {
      "text/plain": [
       "True"
      ]
     },
     "execution_count": 58,
     "metadata": {},
     "output_type": "execute_result"
    }
   ],
   "source": [
    "# apply calculated transformations and output the all points clouds for m3c2 distance calculation\n",
    "before_snow = copy.deepcopy(before_snow).transform(result_icp.transformation)\n",
    "o3d.io.write_point_cloud(\"before_aligned.pcd\", before_snow)\n",
    "o3d.io.write_point_cloud(\"after_aligned.pcd\", after_snow)"
   ]
  },
  {
   "cell_type": "code",
   "execution_count": 59,
   "metadata": {},
   "outputs": [],
   "source": [
    "# check to make sure our new files are transformed correctly with an identity matrix transform\n",
    "before_aligned = o3d.io.read_point_cloud(\"before_aligned.pcd\")\n",
    "after_aligned = o3d.io.read_point_cloud(\"after_aligned.pcd\")\n",
    "draw_registration_result(before_aligned, after_aligned, np.identity(4))"
   ]
  },
  {
   "cell_type": "code",
   "execution_count": 64,
   "metadata": {},
   "outputs": [
    {
     "data": {
      "text/plain": [
       "0"
      ]
     },
     "execution_count": 64,
     "metadata": {},
     "output_type": "execute_result"
    }
   ],
   "source": [
    "# run cloudcompare in BASH command\n",
    "# This assumes cloud compare was installed using the SNAPD package\n",
    "os.system('cloudcompare.CloudCompare -O \"after_aligned.pcd\" -O \"before_aligned.pcd\" -M3C2 \"m3c2_params.txt\" -SAVE_CLOUDS')"
   ]
  },
  {
   "cell_type": "code",
   "execution_count": 80,
   "metadata": {},
   "outputs": [],
   "source": []
  },
  {
   "cell_type": "code",
   "execution_count": 103,
   "metadata": {},
   "outputs": [
    {
     "name": "stdout",
     "output_type": "stream",
     "text": [
      "26560000\n",
      "26560000\n"
     ]
    }
   ],
   "source": [
    "print(len(dists))\n",
    "print(len(after_snow.colors))\n",
    "\n",
    "def sigmoid(number):\n",
    "    z = 1/(1 + np.exp(-number))\n",
    "    \n",
    "    return z\n",
    "\n",
    "med = np.median(dists)\n",
    "\n",
    "color_list = []\n",
    "for i in range(0, len(after_snow.colors)):\n",
    "    red = sigmoid((dists[i] - med))\n",
    "    blue = sigmoid((dists[i] - med) - red)\n",
    "    green = 0\n",
    "    color = np.asarray([red, green, blue])\n",
    "    after_snow.colors[i] = color\n",
    "\n"
   ]
  },
  {
   "cell_type": "code",
   "execution_count": null,
   "metadata": {},
   "outputs": [],
   "source": []
  }
 ],
 "metadata": {
  "kernelspec": {
   "display_name": "Python 3",
   "language": "python",
   "name": "python3"
  },
  "language_info": {
   "codemirror_mode": {
    "name": "ipython",
    "version": 3
   },
   "file_extension": ".py",
   "mimetype": "text/x-python",
   "name": "python",
   "nbconvert_exporter": "python",
   "pygments_lexer": "ipython3",
   "version": "3.8.6"
  }
 },
 "nbformat": 4,
 "nbformat_minor": 4
}
